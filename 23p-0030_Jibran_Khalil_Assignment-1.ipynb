{
 "cells": [
  {
   "cell_type": "markdown",
   "metadata": {},
   "source": [
    "Assignment-1"
   ]
  },
  {
   "cell_type": "code",
   "execution_count": 7,
   "metadata": {},
   "outputs": [],
   "source": [
    "# Try to install these libraries if not installed\n",
    "import numpy as np\n",
    "import ast"
   ]
  },
  {
   "cell_type": "markdown",
   "metadata": {},
   "source": [
    "### <u>Question 1:</u>\n"
   ]
  },
  {
   "cell_type": "markdown",
   "metadata": {},
   "source": [
    "You have a list of dictionaries, where each dictionary represents a transaction in a dataset. Write a program to group the transactions by `Store_Type` and find the total sales for each store.\n",
    "\n",
    "**Input:**\n",
    "\n",
    "```python\n",
    "transactions = [\n",
    "    {'Transaction_ID': 1, 'Store_Type': 'Electronics', 'Total_Sales': 950},\n",
    "    {'Transaction_ID': 2, 'Store_Type': 'Books', 'Total_Sales': 100},\n",
    "    # More transactions...\n",
    "]\n",
    "```\n",
    "\n",
    "##### Note\n",
    "\n",
    "The `transactions` list will change on every output due to `np.random`. In the future, you will explore `numpy`, so don't worry about it now.\n",
    "\n",
    "Also, explore the Python `\"random\"` library if possible: [Python Random Module](https://www.geeksforgeeks.org/python-random-module/)\n"
   ]
  },
  {
   "cell_type": "code",
   "execution_count": 25,
   "metadata": {},
   "outputs": [
    {
     "name": "stdout",
     "output_type": "stream",
     "text": [
      "[{'Transaction_ID': 1, 'Store_Type': 'Books', 'Total_Sales': 700}, {'Transaction_ID': 2, 'Store_Type': 'Grocery', 'Total_Sales': 900}, {'Transaction_ID': 3, 'Store_Type': 'Grocery', 'Total_Sales': 550}, {'Transaction_ID': 4, 'Store_Type': 'Furniture', 'Total_Sales': 200}]\n",
      "Electronics - 0\n",
      "Books - 700\n",
      "Stationary - 0\n",
      "Clothing - 0\n",
      "Grocery - 1450\n",
      "Furniture - 200\n",
      "Pharmacy - 0\n"
     ]
    }
   ],
   "source": [
    "transactions = []\n",
    "for i in range(1, 5):\n",
    "    data = {\"Transaction_ID\": i}\n",
    "    data[\"Store_Type\"] = np.random.choice(\n",
    "        [\"Electronics\", \"Books\", \"Stationary\", \"Clothing\", \"Grocery\", \"Furniture\", \"Pharmacy\"])\n",
    "    data[\"Total_Sales\"] = np.random.choice(np.arange(100, 1001, 50))\n",
    "    transactions.append(data)\n",
    "\n",
    "# code here\n",
    "\n",
    "\n",
    "def calculate(transactions):\n",
    "    sales_types = [{\"Store_Type\": \"Electronics\", \"Total_Sales\": 0, },\n",
    "                   {\"Store_Type\": \"Books\", \"Total_Sales\": 0, },\n",
    "                   {\"Store_Type\": \"Stationary\", \"Total_Sales\": 0, },\n",
    "                   {\"Store_Type\": \"Clothing\", \"Total_Sales\": 0, },\n",
    "                   {\"Store_Type\": \"Grocery\", \"Total_Sales\": 0, },\n",
    "                   {\"Store_Type\": \"Furniture\", \"Total_Sales\": 0, },\n",
    "                   {\"Store_Type\": \"Pharmacy\", \"Total_Sales\": 0},]\n",
    "\n",
    "    for transaction in transactions:\n",
    "        for sale in sales_types:\n",
    "            if sale['Store_Type'] == transaction['Store_Type']:\n",
    "                sale['Total_Sales'] = sale['Total_Sales'] + \\\n",
    "                    transaction['Total_Sales']\n",
    "\n",
    "    return sales_types\n",
    "\n",
    "\n",
    "print(transactions)\n",
    "output = calculate(transactions)\n",
    "\n",
    "for i in output:\n",
    "    print(f\"{i['Store_Type']} - {i['Total_Sales']}\")"
   ]
  },
  {
   "cell_type": "markdown",
   "metadata": {},
   "source": [
    "### <u>Question 2:</u>\n"
   ]
  },
  {
   "cell_type": "markdown",
   "metadata": {},
   "source": [
    "Write a program that can remove all the duplicate characters (keeping the first one) from a string. The user will provide the input. **Order is not necessary**.\n",
    "\n",
    "**Input:**\n",
    "Artificial intelligence <br>\n",
    "**output:**\n",
    "ftcelnri Aag or Artifcal neg\n"
   ]
  },
  {
   "cell_type": "code",
   "execution_count": 1,
   "metadata": {},
   "outputs": [
    {
     "name": "stdout",
     "output_type": "stream",
     "text": [
      "ali\n"
     ]
    }
   ],
   "source": [
    "# code here\n",
    " \n",
    "input_text = input()\n",
    "output = \"\"\n",
    "for text in input_text:\n",
    "    if not text == \" \":\n",
    "        if output.__contains__(text):\n",
    "            pass\n",
    "        else:\n",
    "            output = output + text\n",
    "    else:\n",
    "        output = output + text\n",
    "\n",
    "print(output)"
   ]
  },
  {
   "cell_type": "markdown",
   "metadata": {},
   "source": [
    "### <u>Question 3:</u>\n"
   ]
  },
  {
   "cell_type": "markdown",
   "metadata": {},
   "source": [
    "Convert Character Matrix to single String\n",
    "\n",
    "**Example 1:**\n",
    "\n",
    "Input:\n",
    "\n",
    "```python\n",
    "[['A', 'I'], ['s', 't','a','n','d','s'], ['f', 'o', 'r'], ['A', 'r', 't', 'i', 'f', 'i', 'c','i','a','l'],['i','n','t','e','l','l','i','g','e','n','c','e']]\n",
    "```\n",
    "\n",
    "Output:\n",
    "\n",
    "```bash\n",
    "AI stands for Artificial intelligence\n",
    "```\n"
   ]
  },
  {
   "cell_type": "code",
   "execution_count": 2,
   "metadata": {},
   "outputs": [
    {
     "name": "stdout",
     "output_type": "stream",
     "text": [
      "AI stands for Artificial intelligence \n"
     ]
    }
   ],
   "source": [
    "input = [['A', 'I'],\n",
    "         ['s', 't', 'a', 'n', 'd', 's'],\n",
    "         ['f', 'o', 'r'],\n",
    "         ['A', 'r', 't', 'i', 'f', 'i', 'c', 'i', 'a', 'l'],\n",
    "         ['i', 'n', 't', 'e', 'l', 'l', 'i', 'g', 'e', 'n', 'c', 'e']]\n",
    "\n",
    "output = \"\"\n",
    "# code here\n",
    "for word in input:\n",
    "    for char in word:\n",
    "        output = output + char\n",
    "    output = output + \" \"\n",
    "\n",
    "print(output)"
   ]
  },
  {
   "cell_type": "markdown",
   "metadata": {},
   "source": [
    "### <u>Question 4:</u>\n"
   ]
  },
  {
   "cell_type": "markdown",
   "metadata": {},
   "source": [
    "Let <br>\n",
    "**Input:**\n",
    "\n",
    "```python\n",
    "matrix = [\n",
    "    [1, 2, 3],\n",
    "    [4, 5, 6],\n",
    "    [7, 8, 9]\n",
    "]\n",
    "```\n",
    "\n",
    "##### Using List Comprehension : [Python List Comprehension](https://www.geeksforgeeks.org/python-list-comprehension/)\n",
    "\n",
    "**1- Transpose a Matrix** <br>\n",
    "**Output:**\n",
    "\n",
    "```python\n",
    "[\n",
    "    [1, 4, 7],\n",
    "    [2, 5, 8],\n",
    "    [3, 6, 9]\n",
    "]\n",
    "```\n",
    "\n",
    "**2- Flatten a matrix**<br>\n",
    "**Output:**\n",
    "\n",
    "```python\n",
    "[1, 2, 3, 4, 5, 6, 7, 8, 9]\n",
    "```\n",
    "\n",
    "**3- Find the max number of each row of a matrix**<br>\n",
    "**Output:**\n",
    "\n",
    "```python\n",
    "[3,6,9]\n",
    "```\n"
   ]
  },
  {
   "cell_type": "code",
   "execution_count": 4,
   "metadata": {},
   "outputs": [
    {
     "name": "stdout",
     "output_type": "stream",
     "text": [
      "Matrix : [[1, 2, 3], [4, 5, 6], [7, 8, 9]]\n",
      "Transpose of Matrix : [[1, 4, 7], [2, 5, 8], [3, 6, 9]]\n",
      "Flatten Matrix : [1, 2, 3, 4, 5, 6, 7, 8, 9]\n",
      "max in Matrix : [3, 6, 9]\n"
     ]
    }
   ],
   "source": [
    "matrix = [[i + 1 for i in range(j, j + 3)] for j in range(0, 9, 3)]\n",
    "\n",
    "# code here\n",
    "\n",
    "def transpose(matrix):\n",
    "    transpose_matrix = [[0, 0, 0], [0, 0, 0], [0, 0, 0]]\n",
    "    for row in range(len(matrix)):\n",
    "        for col in range(len(matrix)):\n",
    "            transpose_matrix[col][row] = matrix[row][col]\n",
    "    return transpose_matrix\n",
    "\n",
    "\n",
    "def flattenMatrix(matrix):\n",
    "    flat_matrix = []\n",
    "    for row in range(len(matrix)):\n",
    "        for col in range(len(matrix)):\n",
    "            flat_matrix.append(matrix[row][col])\n",
    "    return flat_matrix\n",
    "\n",
    "\n",
    "def maxInMatrix(matrix):\n",
    "    max_in_matrix = [0, 0, 0]\n",
    "    for row in range(len(matrix)):\n",
    "        max = matrix[row][0]\n",
    "        for col in range(len(matrix)):\n",
    "            if max < matrix[row][col]:\n",
    "                max_in_matrix[row] = matrix[row][col]\n",
    "    return max_in_matrix\n",
    "\n",
    "\n",
    "print(\"Matrix :\", matrix)\n",
    "print(\"Transpose of Matrix :\", transpose(matrix))\n",
    "print(\"Flatten Matrix :\", flattenMatrix(matrix))\n",
    "print(\"max in Matrix :\", maxInMatrix(matrix))"
   ]
  },
  {
   "cell_type": "markdown",
   "metadata": {},
   "source": [
    "### <u>Question 5:</u>\n"
   ]
  },
  {
   "cell_type": "markdown",
   "metadata": {},
   "source": [
    "You have a list of floats representing daily transaction amounts. Use reduce(),filter() and a lambda function to calculate the sum of all the transactions that are greater than $100.\n",
    "\n",
    "**Input:**\n",
    "\n",
    "```python\n",
    "[110.46, 75.33, 120.43, 94.72]\n",
    "```\n",
    "\n",
    "**Output**\n",
    "\n",
    "```python\n",
    "230.89\n",
    "```\n",
    "\n",
    "Explore Reduce function in python: [Python Reduce Function](https://www.geeksforgeeks.org/reduce-in-python/)\n"
   ]
  },
  {
   "cell_type": "code",
   "execution_count": 8,
   "metadata": {},
   "outputs": [
    {
     "name": "stdout",
     "output_type": "stream",
     "text": [
      "filtered list :  [141.69, 131.37, 110.72, 132.61, 114.35]\n",
      "sum :  630.74\n"
     ]
    }
   ],
   "source": [
    "from functools import reduce\n",
    "lst = [round(np.random.uniform(50.0, 150.0), 2)\n",
    "       for _ in range(11)]  # randomly generating list\n",
    "\n",
    "\n",
    "# code here\n",
    "\n",
    "filtered_list = list(filter(lambda x: x > 100, lst))\n",
    "\n",
    "sum = reduce(lambda x, y: x+y, filtered_list)\n",
    "\n",
    "print(\"filtered list : \", filtered_list)\n",
    "print(\"sum : \", sum)"
   ]
  },
  {
   "cell_type": "markdown",
   "metadata": {},
   "source": [
    "### <u>Question 6:</u>\n"
   ]
  },
  {
   "cell_type": "markdown",
   "metadata": {},
   "source": [
    "Join Tuples if similar initial element\n",
    "While working with Python tuples, we can have a problem in which we need to perform concatenation of records from the similarity of initial element. This problem can have applications in data domains such as Data Science.\n",
    "\n",
    "For eg. <br>\n",
    "**Input:**\n",
    "\n",
    "```python\n",
    "[(5, 6), (5, 7), (5, 8), (6, 10), (7, 13)]\n",
    "```\n",
    "\n",
    "**Output:**\n",
    "\n",
    "```bash\n",
    "[(5, 6, 7, 8), (6, 10), (7, 13)]\n",
    "```\n"
   ]
  },
  {
   "cell_type": "code",
   "execution_count": 9,
   "metadata": {},
   "outputs": [
    {
     "name": "stdout",
     "output_type": "stream",
     "text": [
      "[(5, 6), (5, 7), (5, 8), (6, 10), (7, 13)]\n",
      "[(5, 6, 7, 8), (6, 10), (7, 13)]\n"
     ]
    }
   ],
   "source": [
    "# code here\n",
    "tpl_list = [(5, 6), (5, 7), (5, 8), (6, 10), (7, 13)]\n",
    "print(tpl_list)\n",
    "\n",
    "result = []\n",
    "mylist = []\n",
    "for tpl in tpl_list:\n",
    "    inList = False\n",
    "    for res in result:\n",
    "        if res[0] == tpl[0]:\n",
    "            res += tpl[1:]\n",
    "            inList = True\n",
    "            break\n",
    "    if not inList:\n",
    "        result.append(list(tpl))\n",
    "\n",
    "for item in result:\n",
    "    mylist.append(tuple(item))\n",
    "\n",
    "print(mylist)"
   ]
  },
  {
   "cell_type": "markdown",
   "metadata": {},
   "source": [
    "### <u>Question 7:</u>\n"
   ]
  },
  {
   "cell_type": "markdown",
   "metadata": {},
   "source": [
    "Count no of tuples, list and set from a list.\n",
    "\n",
    "**input:**\n",
    "\n",
    "```python\n",
    "[{'Course', 'Lab'},{'Prog', 'AI'},('1', '2'),['c', 'd'],['10', '20'],\"PAI\"]\n",
    "\n",
    "```\n",
    "\n",
    "**Output:**\n",
    "\n",
    "```python\n",
    "List-2\n",
    "Set-2\n",
    "Tuples-1\n",
    "Others-1\n",
    "```\n"
   ]
  },
  {
   "cell_type": "code",
   "execution_count": 177,
   "metadata": {},
   "outputs": [
    {
     "name": "stdout",
     "output_type": "stream",
     "text": [
      "List - 2\n",
      "Set - 2\n",
      "Tuples - 1\n",
      "Others - 1\n"
     ]
    }
   ],
   "source": [
    "import ast\n",
    "\n",
    "# x = input()\n",
    "# lst = ast.literal_eval(x)       # technique to get list as an input -- Just want to tell tip ---- you can hardcode list (yours choice)\n",
    "lst = [{'Course', 'Lab'}, {'Prog', 'AI'}, ('1', '2'), ['c', 'd'], [\n",
    "    '10', '20'], \"PAI\",]\n",
    "\n",
    "# code here\n",
    "dic = {\"List\": 0, \"Set\": 0, \"Tuples\": 0, \"Others\": 0}\n",
    "\n",
    "for item in lst:\n",
    "    if type(item) == list:\n",
    "        dic['List'] += 1\n",
    "    elif type(item) == set:\n",
    "        dic['Set'] += 1\n",
    "    elif type(item) == tuple:\n",
    "        dic['Tuples'] += 1\n",
    "    else:\n",
    "        dic['Others'] += 1\n",
    "\n",
    "for i in dic:\n",
    "    print(i, \"-\", dic[i])"
   ]
  },
  {
   "cell_type": "markdown",
   "metadata": {},
   "source": [
    "### <u>Question 8:</u>\n"
   ]
  },
  {
   "cell_type": "markdown",
   "metadata": {},
   "source": [
    "Count unique number of vowels in a given string. Lowercase and upercase vowels will be taken as different.\n",
    "\n",
    "`Input:`\n",
    "\n",
    "```python\n",
    "Str = \"Programming for AI Fall 2024\"\n",
    "```\n",
    "\n",
    "`Output:`\n",
    "\n",
    "```python\n",
    "No of unique vowels-5\n",
    "```\n"
   ]
  },
  {
   "cell_type": "code",
   "execution_count": 191,
   "metadata": {},
   "outputs": [
    {
     "name": "stdout",
     "output_type": "stream",
     "text": [
      "No of unique vowels-5\n"
     ]
    }
   ],
   "source": [
    "# code here\n",
    "\n",
    "Str = \"Programming for AI Fall 2024\"\n",
    "vovels = 'aeiou'\n",
    "\n",
    "unique_vovels = []\n",
    "for char in Str:\n",
    "    if char in vovels or char in vovels.upper():\n",
    "        if char not in unique_vovels:\n",
    "            unique_vovels.append(char)\n",
    "\n",
    "print(f\"No of unique vowels-{len(unique_vovels)}\")"
   ]
  },
  {
   "cell_type": "markdown",
   "metadata": {},
   "source": [
    "### <u>Question 9:</u>\n"
   ]
  },
  {
   "cell_type": "markdown",
   "metadata": {},
   "source": [
    "Write a program that get string as an input and then analyze that string and give answer of frequency of each char and as well as words in (dictionary). Also tell total number of char and words in that strings. Moreover Tell me about total number of uppercase,lowercase,digits and other characters in that string.\n",
    "\n",
    "**input**:<br>\n",
    "\n",
    "```python\n",
    "\"Hello Mr. 2nd Khan\"\n",
    "```\n",
    "\n",
    "**output**:<br>\n",
    "\n",
    "```python\n",
    "Total character: 18\n",
    "Total Words: 4\n",
    "Character frequency: {'H': 1, 'e': 1, 'l': 2, 'o': 1, ' ': 3, 'M': 1, 'r': 1, '.': 1, '2': 1, 'n': 2, 'd': 1, 'K': 1, 'h': 1, 'a': 1}\n",
    "Words Frequency: {'Hello': 1, 'Mr.': 1, '2nd': 1, 'Khan': 1}\n",
    "upper case letters: 3\n",
    "Lower case letters: 10\n",
    "Total Digits: 1\n",
    "Others: 4\n",
    "```\n"
   ]
  },
  {
   "cell_type": "code",
   "execution_count": 18,
   "metadata": {},
   "outputs": [
    {
     "name": "stdout",
     "output_type": "stream",
     "text": [
      "Total character: 18\n",
      "Total Words: 4 \n",
      "Character frequency: {'H': 1, 'e': 1, 'l': 2, 'o': 1, ' ': 3, 'M': 1, 'r': 1, '.': 1, '2': 1, 'n': 2, 'd': 1, 'K': 1, 'h': 1, 'a': 1}\n",
      "Words Frequency: {'Hello': 1, 'Mr.': 1, '2nd': 1, 'Khan': 1}\n",
      "upper case letters: 3\n",
      "Lower case letters: 10\n",
      "Total Digits: 1\n",
      "Others: 4\n"
     ]
    }
   ],
   "source": [
    "# code here\n",
    "input = \"Hello Mr. 2nd Khan\"\n",
    "\n",
    "print(f\"Total character: {len(input)}\")\n",
    "print(f\"Total Words: {len(input.split(' '))} \")\n",
    "\n",
    "def getcharFrquency(chr, list):\n",
    "    total = 0\n",
    "    for char in list:\n",
    "        if char == chr:\n",
    "            total += 1\n",
    "    return total\n",
    "\n",
    "\n",
    "def getwordFrquency(wrd, list):\n",
    "    total = 0\n",
    "    for word in list:\n",
    "        if word == wrd:\n",
    "            total += 1\n",
    "    return total\n",
    "\n",
    "\n",
    "print(f\"Character frequency:\", end=' ')\n",
    "character_frequency = {}\n",
    "for i in input:\n",
    "    character_frequency[i] = getcharFrquency(i, input)\n",
    "print(character_frequency)\n",
    "\n",
    "print(f\"Words Frequency: \", end=\"\")\n",
    "word_frequency = {}\n",
    "for word in input.split(' '):\n",
    "    word_frequency[word] = getwordFrquency(word, input.split(' '))\n",
    "print(word_frequency)\n",
    "\n",
    "\n",
    "def totalUpper(list):\n",
    "    total = 0\n",
    "    for char in list:\n",
    "        if char.isupper():\n",
    "            total += 1\n",
    "    return total\n",
    "\n",
    "\n",
    "def totalLower(list):\n",
    "    total = 0\n",
    "    for char in list:\n",
    "        if char.islower():\n",
    "            total += 1\n",
    "    return total\n",
    "\n",
    "\n",
    "def totaldigits(list):\n",
    "    total = 0\n",
    "    for char in list:\n",
    "        if char.isdigit():\n",
    "            total += 1\n",
    "    return total\n",
    "\n",
    "def totalother(list):\n",
    "    total =  len(list)\n",
    "    return total - totaldigits(list)\n",
    "\n",
    "\n",
    "print(f\"upper case letters: {totalUpper(input)}\")\n",
    "print(f\"Lower case letters: {totalLower(input)}\")\n",
    "print(f\"Total Digits: {totaldigits(input)}\")\n",
    "print(f\"Others: {totalother(input.split(\" \"))}\")"
   ]
  },
  {
   "cell_type": "markdown",
   "metadata": {},
   "source": [
    "### <u>Question 10:</u>\n"
   ]
  },
  {
   "cell_type": "markdown",
   "metadata": {},
   "source": [
    "Write a Python function to concatenate any no of dictionaries to create a new one. Take values of dictionaries as integer for now.\n",
    "\n",
    "```python\n",
    "Sample Dictionary :\n",
    "dic1={1:10, 2:20}\n",
    "dic2={3:30, 4:40}\n",
    "dic3={1:20,5:50,6:60}\n",
    "\n",
    "Expected Output : {1: 30, 2: 20, 3: 30, 4: 40, 5: 50, 6: 60}\n",
    "```\n",
    "\n",
    "Explore *args and \\*\\*kwargs in python : [Python *args and \\*\\*kwargs](https://www.geeksforgeeks.org/args-kwargs-python/)\n"
   ]
  },
  {
   "cell_type": "code",
   "execution_count": 19,
   "metadata": {},
   "outputs": [
    {
     "name": "stdout",
     "output_type": "stream",
     "text": [
      "{1: 30, 2: 20, 3: 30, 4: 40, 5: 50, 6: 60}\n"
     ]
    }
   ],
   "source": [
    "# code here\n",
    "dic1 = {1: 10, 2: 20}\n",
    "dic2 = {3: 30, 4: 40}\n",
    "dic3 = {1: 20, 5: 50, 6: 60}\n",
    "\n",
    "\n",
    "def concatDic(*args):\n",
    "    final_dic = {}\n",
    "    for arg in args:\n",
    "        for item in arg:\n",
    "            if item in final_dic:\n",
    "                final_dic[item] = final_dic[item] + arg[item]\n",
    "            else:\n",
    "                final_dic[item] = arg[item]\n",
    "    return final_dic\n",
    "\n",
    "\n",
    "print(concatDic(dic1, dic2, dic3))"
   ]
  },
  {
   "cell_type": "markdown",
   "metadata": {},
   "source": [
    "### <u>Question 11:</u>\n"
   ]
  },
  {
   "cell_type": "markdown",
   "metadata": {},
   "source": [
    "Write a Python function that takes a list of integers as input and generates a frequency distribution, grouping the integers into ranges of 10. For example, given the input [13, 42, 15, 37, 22, 39, 41, 50], the function should output a dictionary representing the count of integers in each range, such as {'10-19': 2, '20-29': 1, '30-39': 2, '40-49': 2, '50-59': 1}. Implement the function and demonstrate its usage with the provided input. What could be practical use case for this ?\n",
    "\n",
    "**Input:**\n",
    "\n",
    "```python\n",
    "[13,42,15,37,22,39,41,50]\n",
    "```\n",
    "\n",
    "**Output:**\n",
    "\n",
    "```python\n",
    "{10-19:2,20-29:1,30-39:2,40-49:2,50-59:1}\n",
    "```\n"
   ]
  },
  {
   "cell_type": "code",
   "execution_count": 2,
   "metadata": {},
   "outputs": [
    {
     "name": "stdout",
     "output_type": "stream",
     "text": [
      "{'10-19': 2, '40-49': 2, '30-39': 2, '20-29': 1, '50-59': 1}\n"
     ]
    }
   ],
   "source": [
    "# code here\n",
    "input = [13, 42, 15, 37, 22, 39, 41, 50]\n",
    "\n",
    "def freq(list):\n",
    "    frequency = {}\n",
    "    for num in list: \n",
    "        range_start = int((num / 10)) * 10\n",
    "        ranges = f\"{range_start}-{range_start + 9}\"\n",
    "        if ranges not in frequency:\n",
    "            frequency[ranges] = 1\n",
    "        else:\n",
    "            frequency[ranges] += 1\n",
    "    return frequency\n",
    "\n",
    "output = freq(input)\n",
    "print(output)"
   ]
  }
 ],
 "metadata": {
  "kernelspec": {
   "display_name": "base",
   "language": "python",
   "name": "python3"
  },
  "language_info": {
   "codemirror_mode": {
    "name": "ipython",
    "version": 3
   },
   "file_extension": ".py",
   "mimetype": "text/x-python",
   "name": "python",
   "nbconvert_exporter": "python",
   "pygments_lexer": "ipython3",
   "version": "3.12.4"
  }
 },
 "nbformat": 4,
 "nbformat_minor": 2
}
